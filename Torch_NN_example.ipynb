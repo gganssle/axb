{
 "cells": [
  {
   "cell_type": "code",
   "execution_count": 2,
   "metadata": {
    "collapsed": false
   },
   "outputs": [],
   "source": [
    "require 'nn';"
   ]
  },
  {
   "cell_type": "code",
   "execution_count": 3,
   "metadata": {
    "collapsed": true
   },
   "outputs": [],
   "source": [
    "module = nn.Sequential()\n",
    "module:add(nn.Linear(2, 1))\n",
    "module:add(nn.Sigmoid())"
   ]
  },
  {
   "cell_type": "code",
   "execution_count": 4,
   "metadata": {
    "collapsed": true
   },
   "outputs": [],
   "source": [
    "-- Binary cross-entropy criterion, requires binary target labels\n",
    "criterion = nn.BCECriterion()"
   ]
  },
  {
   "cell_type": "code",
   "execution_count": 5,
   "metadata": {
    "collapsed": true
   },
   "outputs": [],
   "source": [
    "inputs = torch.Tensor(10, 2):uniform(-1, 1)\n",
    "targets = torch.Tensor(10):random(0, 1)"
   ]
  },
  {
   "cell_type": "code",
   "execution_count": 6,
   "metadata": {
    "collapsed": false
   },
   "outputs": [
    {
     "data": {
      "text/plain": [
       "-0.8152  0.4692\n",
       "-0.9654  0.7297\n",
       "-0.3842 -0.9609\n",
       "-0.0875 -0.3815\n",
       "-0.9324 -0.4884\n",
       " 0.5976 -0.6939\n",
       "-0.6791 -0.1562\n",
       " 0.4017  0.6577\n",
       "-0.6181 -0.4929\n",
       " 0.1220 -0.8857\n",
       "[torch.DoubleTensor of size 10x2]\n",
       "\n"
      ]
     },
     "execution_count": 6,
     "metadata": {},
     "output_type": "execute_result"
    }
   ],
   "source": [
    "inputs"
   ]
  },
  {
   "cell_type": "code",
   "execution_count": 8,
   "metadata": {
    "collapsed": false
   },
   "outputs": [
    {
     "data": {
      "text/plain": [
       "{\n",
       "  bigtest : function: 0x41d06160\n",
       "  test : function: 0x41d10c68\n",
       "  version : 2\n",
       "}\n"
      ]
     },
     "execution_count": 8,
     "metadata": {},
     "output_type": "execute_result"
    }
   ],
   "source": [
    "require 'dpnn'"
   ]
  },
  {
   "cell_type": "code",
   "execution_count": 9,
   "metadata": {
    "collapsed": true
   },
   "outputs": [],
   "source": [
    "function trainEpoch(module, criterion, inputs, targets)\n",
    "    for i=1, inputs:size(1) do\n",
    "        local idx = math.random(1, inputs:size(1))\n",
    "        local input, target = inputs[idx], targets:narrow(1, idx, 1)\n",
    "        \n",
    "        -- forward\n",
    "        local output = module:forward(input)\n",
    "        local loss = criterion:forward(output, target)\n",
    "        \n",
    "        -- backward\n",
    "        local gradOutput = criterion:backward(output, target)\n",
    "        module:zeroGradParameters()\n",
    "        local gradInput = module:backward(input, gradOutput)\n",
    "        \n",
    "        -- update\n",
    "        module:updateGradParameters(0.9) -- momentum, from dpnn\n",
    "        module:updateParameters(0.1)\n",
    "    end\n",
    "end"
   ]
  },
  {
   "cell_type": "code",
   "execution_count": 10,
   "metadata": {
    "collapsed": false
   },
   "outputs": [],
   "source": [
    "for i=1, 100 do\n",
    "    trainEpoch(module, criterion, inputs, targets)\n",
    "end"
   ]
  },
  {
   "cell_type": "code",
   "execution_count": 11,
   "metadata": {
    "collapsed": false
   },
   "outputs": [
    {
     "ename": "[string \"local f = function() return module.output() e...\"]:1: torch.DoubleTensor has no call operator\nstack traceback:\n\t[C]: in function 'f'\n\t[string \"local f = function() return module.output() e...\"]:1: in main chunk\n\t[C]: in function 'xpcall'\n\t/home/gram/torch/install/share/lua/5.1/itorch/main.lua:210: in function </home/gram/torch/install/share/lua/5.1/itorch/main.lua:174>\n\t/home/gram/torch/install/share/lua/5.1/lzmq/poller.lua:75: in function 'poll'\n\t/home/gram/torch/install/share/lua/5.1/lzmq/impl/loop.lua:307: in function 'poll'\n\t/home/gram/torch/install/share/lua/5.1/lzmq/impl/loop.lua:325: in function 'sleep_ex'\n\t/home/gram/torch/install/share/lua/5.1/lzmq/impl/loop.lua:370: in function 'start'\n\t/home/gram/torch/install/share/lua/5.1/itorch/main.lua:389: in main chunk\n\t[C]: in function 'require'\n\t(command line):1: in main chunk\n\t[C]: at 0x00405d50",
     "evalue": "",
     "output_type": "error",
     "traceback": [
      "[string \"local f = function() return module.output() e...\"]:1: torch.DoubleTensor has no call operator\nstack traceback:\n\t[C]: in function 'f'\n\t[string \"local f = function() return module.output() e...\"]:1: in main chunk\n\t[C]: in function 'xpcall'\n\t/home/gram/torch/install/share/lua/5.1/itorch/main.lua:210: in function </home/gram/torch/install/share/lua/5.1/itorch/main.lua:174>\n\t/home/gram/torch/install/share/lua/5.1/lzmq/poller.lua:75: in function 'poll'\n\t/home/gram/torch/install/share/lua/5.1/lzmq/impl/loop.lua:307: in function 'poll'\n\t/home/gram/torch/install/share/lua/5.1/lzmq/impl/loop.lua:325: in function 'sleep_ex'\n\t/home/gram/torch/install/share/lua/5.1/lzmq/impl/loop.lua:370: in function 'start'\n\t/home/gram/torch/install/share/lua/5.1/itorch/main.lua:389: in main chunk\n\t[C]: in function 'require'\n\t(command line):1: in main chunk\n\t[C]: at 0x00405d50"
     ]
    }
   ],
   "source": [
    "module.output()"
   ]
  },
  {
   "cell_type": "code",
   "execution_count": null,
   "metadata": {
    "collapsed": true
   },
   "outputs": [],
   "source": []
  }
 ],
 "metadata": {
  "kernelspec": {
   "display_name": "iTorch",
   "language": "lua",
   "name": "itorch"
  },
  "language_info": {
   "name": "lua",
   "version": "5.1"
  }
 },
 "nbformat": 4,
 "nbformat_minor": 0
}
